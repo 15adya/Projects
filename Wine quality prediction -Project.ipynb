{
 "cells": [
  {
   "cell_type": "markdown",
   "id": "77e872e1",
   "metadata": {},
   "source": [
    "### Machine Learning Capstone Project: Predict the Wine quality"
   ]
  },
  {
   "cell_type": "code",
   "execution_count": 1,
   "id": "4ea4a869",
   "metadata": {},
   "outputs": [],
   "source": [
    "#Step -1 Importing the libraries\n",
    "\n",
    "import numpy as np\n",
    "import pandas as pd\n",
    "import seaborn as sns\n",
    "import matplotlib.pyplot as plt\n",
    "%matplotlib inline\n",
    "import random\n",
    "\n",
    "from sklearn import metrics\n",
    "from sklearn.preprocessing import LabelEncoder\n",
    "from sklearn.model_selection import train_test_split, GridSearchCV\n",
    "from sklearn.ensemble import RandomForestClassifier\n",
    "from sklearn.metrics import roc_curve, auc, confusion_matrix, classification_report\n",
    "from sklearn.ensemble import RandomForestClassifier \n",
    "from sklearn.preprocessing import StandardScaler\n",
    "import warnings\n",
    "warnings.filterwarnings('ignore')"
   ]
  },
  {
   "cell_type": "code",
   "execution_count": 2,
   "id": "4d595c5c",
   "metadata": {},
   "outputs": [
    {
     "data": {
      "text/html": [
       "<div>\n",
       "<style scoped>\n",
       "    .dataframe tbody tr th:only-of-type {\n",
       "        vertical-align: middle;\n",
       "    }\n",
       "\n",
       "    .dataframe tbody tr th {\n",
       "        vertical-align: top;\n",
       "    }\n",
       "\n",
       "    .dataframe thead th {\n",
       "        text-align: right;\n",
       "    }\n",
       "</style>\n",
       "<table border=\"1\" class=\"dataframe\">\n",
       "  <thead>\n",
       "    <tr style=\"text-align: right;\">\n",
       "      <th></th>\n",
       "      <th>fixed acidity</th>\n",
       "      <th>volatile acidity</th>\n",
       "      <th>citric acid</th>\n",
       "      <th>residual sugar</th>\n",
       "      <th>chlorides</th>\n",
       "      <th>free sulfur dioxide</th>\n",
       "      <th>total sulfur dioxide</th>\n",
       "      <th>density</th>\n",
       "      <th>pH</th>\n",
       "      <th>sulphates</th>\n",
       "      <th>alcohol</th>\n",
       "      <th>quality</th>\n",
       "    </tr>\n",
       "  </thead>\n",
       "  <tbody>\n",
       "    <tr>\n",
       "      <th>0</th>\n",
       "      <td>7.4</td>\n",
       "      <td>0.70</td>\n",
       "      <td>0.00</td>\n",
       "      <td>1.9</td>\n",
       "      <td>0.076</td>\n",
       "      <td>11.0</td>\n",
       "      <td>34.0</td>\n",
       "      <td>0.9978</td>\n",
       "      <td>3.51</td>\n",
       "      <td>0.56</td>\n",
       "      <td>9.4</td>\n",
       "      <td>5</td>\n",
       "    </tr>\n",
       "    <tr>\n",
       "      <th>1</th>\n",
       "      <td>7.8</td>\n",
       "      <td>0.88</td>\n",
       "      <td>0.00</td>\n",
       "      <td>2.6</td>\n",
       "      <td>0.098</td>\n",
       "      <td>25.0</td>\n",
       "      <td>67.0</td>\n",
       "      <td>0.9968</td>\n",
       "      <td>3.20</td>\n",
       "      <td>0.68</td>\n",
       "      <td>9.8</td>\n",
       "      <td>5</td>\n",
       "    </tr>\n",
       "    <tr>\n",
       "      <th>2</th>\n",
       "      <td>7.8</td>\n",
       "      <td>0.76</td>\n",
       "      <td>0.04</td>\n",
       "      <td>2.3</td>\n",
       "      <td>0.092</td>\n",
       "      <td>15.0</td>\n",
       "      <td>54.0</td>\n",
       "      <td>0.9970</td>\n",
       "      <td>3.26</td>\n",
       "      <td>0.65</td>\n",
       "      <td>9.8</td>\n",
       "      <td>5</td>\n",
       "    </tr>\n",
       "    <tr>\n",
       "      <th>3</th>\n",
       "      <td>11.2</td>\n",
       "      <td>0.28</td>\n",
       "      <td>0.56</td>\n",
       "      <td>1.9</td>\n",
       "      <td>0.075</td>\n",
       "      <td>17.0</td>\n",
       "      <td>60.0</td>\n",
       "      <td>0.9980</td>\n",
       "      <td>3.16</td>\n",
       "      <td>0.58</td>\n",
       "      <td>9.8</td>\n",
       "      <td>6</td>\n",
       "    </tr>\n",
       "    <tr>\n",
       "      <th>4</th>\n",
       "      <td>7.4</td>\n",
       "      <td>0.70</td>\n",
       "      <td>0.00</td>\n",
       "      <td>1.9</td>\n",
       "      <td>0.076</td>\n",
       "      <td>11.0</td>\n",
       "      <td>34.0</td>\n",
       "      <td>0.9978</td>\n",
       "      <td>3.51</td>\n",
       "      <td>0.56</td>\n",
       "      <td>9.4</td>\n",
       "      <td>5</td>\n",
       "    </tr>\n",
       "  </tbody>\n",
       "</table>\n",
       "</div>"
      ],
      "text/plain": [
       "   fixed acidity  volatile acidity  citric acid  residual sugar  chlorides  \\\n",
       "0            7.4              0.70         0.00             1.9      0.076   \n",
       "1            7.8              0.88         0.00             2.6      0.098   \n",
       "2            7.8              0.76         0.04             2.3      0.092   \n",
       "3           11.2              0.28         0.56             1.9      0.075   \n",
       "4            7.4              0.70         0.00             1.9      0.076   \n",
       "\n",
       "   free sulfur dioxide  total sulfur dioxide  density    pH  sulphates  \\\n",
       "0                 11.0                  34.0   0.9978  3.51       0.56   \n",
       "1                 25.0                  67.0   0.9968  3.20       0.68   \n",
       "2                 15.0                  54.0   0.9970  3.26       0.65   \n",
       "3                 17.0                  60.0   0.9980  3.16       0.58   \n",
       "4                 11.0                  34.0   0.9978  3.51       0.56   \n",
       "\n",
       "   alcohol  quality  \n",
       "0      9.4        5  \n",
       "1      9.8        5  \n",
       "2      9.8        5  \n",
       "3      9.8        6  \n",
       "4      9.4        5  "
      ]
     },
     "execution_count": 2,
     "metadata": {},
     "output_type": "execute_result"
    }
   ],
   "source": [
    "# Step 2 reading the dataset\n",
    "Wine_Quality = pd.read_csv('datasets\\QualityPrediction.csv')\n",
    "pd.set_option('display.max_columns',20)\n",
    "Wine_Quality.head()\n"
   ]
  },
  {
   "cell_type": "code",
   "execution_count": 3,
   "id": "07f6adda",
   "metadata": {},
   "outputs": [
    {
     "data": {
      "text/plain": [
       "fixed acidity           0\n",
       "volatile acidity        0\n",
       "citric acid             0\n",
       "residual sugar          0\n",
       "chlorides               0\n",
       "free sulfur dioxide     0\n",
       "total sulfur dioxide    0\n",
       "density                 0\n",
       "pH                      0\n",
       "sulphates               0\n",
       "alcohol                 0\n",
       "quality                 0\n",
       "dtype: int64"
      ]
     },
     "execution_count": 3,
     "metadata": {},
     "output_type": "execute_result"
    }
   ],
   "source": [
    "Wine_Quality.isnull().sum()"
   ]
  },
  {
   "cell_type": "code",
   "execution_count": 4,
   "id": "c560ee15",
   "metadata": {},
   "outputs": [
    {
     "data": {
      "text/plain": [
       "array([5, 6, 7, 4, 8, 3], dtype=int64)"
      ]
     },
     "execution_count": 4,
     "metadata": {},
     "output_type": "execute_result"
    }
   ],
   "source": [
    "Wine_Quality['quality'].unique()"
   ]
  },
  {
   "cell_type": "markdown",
   "id": "bba8edaf",
   "metadata": {},
   "source": [
    "#### Analysis:\n",
    "1. Quality of wine is the Target variable and tells about the rating of wine (1-10).\n",
    "2. Quality of Wine depends on the rest of the variables hence \"Quality\" is the output variable (y)\n",
    "\n",
    "\n"
   ]
  },
  {
   "cell_type": "code",
   "execution_count": 5,
   "id": "8b4f9905",
   "metadata": {},
   "outputs": [
    {
     "data": {
      "text/plain": [
       "Index(['fixed acidity', 'volatile acidity', 'citric acid', 'residual sugar',\n",
       "       'chlorides', 'free sulfur dioxide', 'total sulfur dioxide', 'density',\n",
       "       'pH', 'sulphates', 'alcohol', 'quality'],\n",
       "      dtype='object')"
      ]
     },
     "execution_count": 5,
     "metadata": {},
     "output_type": "execute_result"
    }
   ],
   "source": [
    "Wine_Quality.columns"
   ]
  },
  {
   "cell_type": "code",
   "execution_count": 6,
   "id": "3239363d",
   "metadata": {},
   "outputs": [
    {
     "data": {
      "text/plain": [
       "(1599, 12)"
      ]
     },
     "execution_count": 6,
     "metadata": {},
     "output_type": "execute_result"
    }
   ],
   "source": [
    "columns = ['fixed acidity', 'volatile acidity', 'citric acid', 'residual sugar',\n",
    "       'chlorides', 'free sulfur dioxide', 'total sulfur dioxide', 'density',\n",
    "       'pH', 'sulphates', 'alcohol', 'quality'] \n",
    "\n",
    "Wine_Quality.shape"
   ]
  },
  {
   "cell_type": "code",
   "execution_count": 7,
   "id": "96162e71",
   "metadata": {},
   "outputs": [],
   "source": [
    "Quality = Wine_Quality.copy()\n"
   ]
  },
  {
   "cell_type": "code",
   "execution_count": 8,
   "id": "58030528",
   "metadata": {},
   "outputs": [
    {
     "data": {
      "text/plain": [
       "quality                 1.000000\n",
       "alcohol                 0.476166\n",
       "sulphates               0.251397\n",
       "citric acid             0.226373\n",
       "fixed acidity           0.124052\n",
       "residual sugar          0.013732\n",
       "free sulfur dioxide    -0.050656\n",
       "pH                     -0.057731\n",
       "chlorides              -0.128907\n",
       "density                -0.174919\n",
       "total sulfur dioxide   -0.185100\n",
       "volatile acidity       -0.390558\n",
       "Name: quality, dtype: float64"
      ]
     },
     "execution_count": 8,
     "metadata": {},
     "output_type": "execute_result"
    }
   ],
   "source": [
    "corr = Wine_Quality.corr() # alcohol has correlation, volatile acidity negative correlation\n",
    "\n",
    "corr[\"quality\"].sort_values(ascending=False)"
   ]
  },
  {
   "cell_type": "code",
   "execution_count": 9,
   "id": "2223c641",
   "metadata": {},
   "outputs": [
    {
     "data": {
      "image/png": "[encoded data removed]",
      "text/plain": [
       "<Figure size 432x288 with 2 Axes>"
      ]
     },
     "metadata": {
      "needs_background": "light"
     },
     "output_type": "display_data"
    }
   ],
   "source": [
    "sns.heatmap(Wine_Quality.corr())\n",
    "plt.show()"
   ]
  },
  {
   "cell_type": "code",
   "execution_count": 10,
   "id": "aa721f41",
   "metadata": {},
   "outputs": [
    {
     "data": {
      "text/html": [
       "<div>\n",
       "<style scoped>\n",
       "    .dataframe tbody tr th:only-of-type {\n",
       "        vertical-align: middle;\n",
       "    }\n",
       "\n",
       "    .dataframe tbody tr th {\n",
       "        vertical-align: top;\n",
       "    }\n",
       "\n",
       "    .dataframe thead th {\n",
       "        text-align: right;\n",
       "    }\n",
       "</style>\n",
       "<table border=\"1\" class=\"dataframe\">\n",
       "  <thead>\n",
       "    <tr style=\"text-align: right;\">\n",
       "      <th></th>\n",
       "      <th>fixed acidity</th>\n",
       "      <th>volatile acidity</th>\n",
       "      <th>citric acid</th>\n",
       "      <th>residual sugar</th>\n",
       "      <th>chlorides</th>\n",
       "      <th>free sulfur dioxide</th>\n",
       "      <th>total sulfur dioxide</th>\n",
       "      <th>density</th>\n",
       "      <th>pH</th>\n",
       "      <th>sulphates</th>\n",
       "      <th>alcohol</th>\n",
       "      <th>quality</th>\n",
       "    </tr>\n",
       "  </thead>\n",
       "  <tbody>\n",
       "    <tr>\n",
       "      <th>count</th>\n",
       "      <td>1599.000000</td>\n",
       "      <td>1599.000000</td>\n",
       "      <td>1599.000000</td>\n",
       "      <td>1599.000000</td>\n",
       "      <td>1599.000000</td>\n",
       "      <td>1599.000000</td>\n",
       "      <td>1599.000000</td>\n",
       "      <td>1599.000000</td>\n",
       "      <td>1599.000000</td>\n",
       "      <td>1599.000000</td>\n",
       "      <td>1599.000000</td>\n",
       "      <td>1599.000000</td>\n",
       "    </tr>\n",
       "    <tr>\n",
       "      <th>mean</th>\n",
       "      <td>8.319637</td>\n",
       "      <td>0.527821</td>\n",
       "      <td>0.270976</td>\n",
       "      <td>2.538806</td>\n",
       "      <td>0.087467</td>\n",
       "      <td>15.874922</td>\n",
       "      <td>46.467792</td>\n",
       "      <td>0.996747</td>\n",
       "      <td>3.311113</td>\n",
       "      <td>0.658149</td>\n",
       "      <td>10.422983</td>\n",
       "      <td>5.636023</td>\n",
       "    </tr>\n",
       "    <tr>\n",
       "      <th>std</th>\n",
       "      <td>1.741096</td>\n",
       "      <td>0.179060</td>\n",
       "      <td>0.194801</td>\n",
       "      <td>1.409928</td>\n",
       "      <td>0.047065</td>\n",
       "      <td>10.460157</td>\n",
       "      <td>32.895324</td>\n",
       "      <td>0.001887</td>\n",
       "      <td>0.154386</td>\n",
       "      <td>0.169507</td>\n",
       "      <td>1.065668</td>\n",
       "      <td>0.807569</td>\n",
       "    </tr>\n",
       "    <tr>\n",
       "      <th>min</th>\n",
       "      <td>4.600000</td>\n",
       "      <td>0.120000</td>\n",
       "      <td>0.000000</td>\n",
       "      <td>0.900000</td>\n",
       "      <td>0.012000</td>\n",
       "      <td>1.000000</td>\n",
       "      <td>6.000000</td>\n",
       "      <td>0.990070</td>\n",
       "      <td>2.740000</td>\n",
       "      <td>0.330000</td>\n",
       "      <td>8.400000</td>\n",
       "      <td>3.000000</td>\n",
       "    </tr>\n",
       "    <tr>\n",
       "      <th>25%</th>\n",
       "      <td>7.100000</td>\n",
       "      <td>0.390000</td>\n",
       "      <td>0.090000</td>\n",
       "      <td>1.900000</td>\n",
       "      <td>0.070000</td>\n",
       "      <td>7.000000</td>\n",
       "      <td>22.000000</td>\n",
       "      <td>0.995600</td>\n",
       "      <td>3.210000</td>\n",
       "      <td>0.550000</td>\n",
       "      <td>9.500000</td>\n",
       "      <td>5.000000</td>\n",
       "    </tr>\n",
       "    <tr>\n",
       "      <th>50%</th>\n",
       "      <td>7.900000</td>\n",
       "      <td>0.520000</td>\n",
       "      <td>0.260000</td>\n",
       "      <td>2.200000</td>\n",
       "      <td>0.079000</td>\n",
       "      <td>14.000000</td>\n",
       "      <td>38.000000</td>\n",
       "      <td>0.996750</td>\n",
       "      <td>3.310000</td>\n",
       "      <td>0.620000</td>\n",
       "      <td>10.200000</td>\n",
       "      <td>6.000000</td>\n",
       "    </tr>\n",
       "    <tr>\n",
       "      <th>75%</th>\n",
       "      <td>9.200000</td>\n",
       "      <td>0.640000</td>\n",
       "      <td>0.420000</td>\n",
       "      <td>2.600000</td>\n",
       "      <td>0.090000</td>\n",
       "      <td>21.000000</td>\n",
       "      <td>62.000000</td>\n",
       "      <td>0.997835</td>\n",
       "      <td>3.400000</td>\n",
       "      <td>0.730000</td>\n",
       "      <td>11.100000</td>\n",
       "      <td>6.000000</td>\n",
       "    </tr>\n",
       "    <tr>\n",
       "      <th>max</th>\n",
       "      <td>15.900000</td>\n",
       "      <td>1.580000</td>\n",
       "      <td>1.000000</td>\n",
       "      <td>15.500000</td>\n",
       "      <td>0.611000</td>\n",
       "      <td>72.000000</td>\n",
       "      <td>289.000000</td>\n",
       "      <td>1.003690</td>\n",
       "      <td>4.010000</td>\n",
       "      <td>2.000000</td>\n",
       "      <td>14.900000</td>\n",
       "      <td>8.000000</td>\n",
       "    </tr>\n",
       "  </tbody>\n",
       "</table>\n",
       "</div>"
      ],
      "text/plain": [
       "       fixed acidity  volatile acidity  citric acid  residual sugar  \\\n",
       "count    1599.000000       1599.000000  1599.000000     1599.000000   \n",
       "mean        8.319637          0.527821     0.270976        2.538806   \n",
       "std         1.741096          0.179060     0.194801        1.409928   \n",
       "min         4.600000          0.120000     0.000000        0.900000   \n",
       "25%         7.100000          0.390000     0.090000        1.900000   \n",
       "50%         7.900000          0.520000     0.260000        2.200000   \n",
       "75%         9.200000          0.640000     0.420000        2.600000   \n",
       "max        15.900000          1.580000     1.000000       15.500000   \n",
       "\n",
       "         chlorides  free sulfur dioxide  total sulfur dioxide      density  \\\n",
       "count  1599.000000          1599.000000           1599.000000  1599.000000   \n",
       "mean      0.087467            15.874922             46.467792     0.996747   \n",
       "std       0.047065            10.460157             32.895324     0.001887   \n",
       "min       0.012000             1.000000              6.000000     0.990070   \n",
       "25%       0.070000             7.000000             22.000000     0.995600   \n",
       "50%       0.079000            14.000000             38.000000     0.996750   \n",
       "75%       0.090000            21.000000             62.000000     0.997835   \n",
       "max       0.611000            72.000000            289.000000     1.003690   \n",
       "\n",
       "                pH    sulphates      alcohol      quality  \n",
       "count  1599.000000  1599.000000  1599.000000  1599.000000  \n",
       "mean      3.311113     0.658149    10.422983     5.636023  \n",
       "std       0.154386     0.169507     1.065668     0.807569  \n",
       "min       2.740000     0.330000     8.400000     3.000000  \n",
       "25%       3.210000     0.550000     9.500000     5.000000  \n",
       "50%       3.310000     0.620000    10.200000     6.000000  \n",
       "75%       3.400000     0.730000    11.100000     6.000000  \n",
       "max       4.010000     2.000000    14.900000     8.000000  "
      ]
     },
     "execution_count": 10,
     "metadata": {},
     "output_type": "execute_result"
    }
   ],
   "source": [
    "Quality.describe()"
   ]
  },
  {
   "cell_type": "code",
   "execution_count": 11,
   "id": "922d7221",
   "metadata": {},
   "outputs": [
    {
     "data": {
      "image/png": "[encoded data removed]",
      "text/plain": [
       "<Figure size 720x720 with 12 Axes>"
      ]
     },
     "metadata": {
      "needs_background": "light"
     },
     "output_type": "display_data"
    }
   ],
   "source": [
    "Quality.hist(bins=25,figsize=(10,10)) #Inference: Alcohol has relation with quality\n",
    "# display histogram\n",
    "plt.show()"
   ]
  },
  {
   "cell_type": "code",
   "execution_count": 12,
   "id": "7ec2fd38",
   "metadata": {},
   "outputs": [],
   "source": [
    "#Assigning independent and dependent variables:\n",
    "\n",
    "Quality['best quality']=[1 if x>=7 else 0 for x in Quality['quality']]\n",
    "feature_space = Quality.drop(['quality','best quality'],axis=1)\n",
    "feature_class = Quality.iloc[:, Quality.columns == 'best quality']"
   ]
  },
  {
   "cell_type": "code",
   "execution_count": 13,
   "id": "b84bd02b",
   "metadata": {},
   "outputs": [],
   "source": [
    "Std_scaler = StandardScaler()\n",
    "x = Std_scaler.fit_transform(feature_space)\n"
   ]
  },
  {
   "cell_type": "code",
   "execution_count": 14,
   "id": "c3b8f816",
   "metadata": {},
   "outputs": [],
   "source": [
    "train_x, test_x, class_train_set, class_test_set = train_test_split(x,\n",
    "                                                                    feature_class,\n",
    "                                                                    test_size = 0.30, \n",
    "                                                                    random_state = 42)\n",
    "\n",
    "test_x = Std_scaler.transform(test_x)"
   ]
  },
  {
   "cell_type": "code",
   "execution_count": 15,
   "id": "a6bc2630",
   "metadata": {},
   "outputs": [],
   "source": [
    "fit_rf = RandomForestClassifier(random_state=42)"
   ]
  },
  {
   "cell_type": "code",
   "execution_count": 16,
   "id": "04f4e1d1",
   "metadata": {},
   "outputs": [
    {
     "name": "stdout",
     "output_type": "stream",
     "text": [
      "Best Parameters using grid search: \n",
      " {'bootstrap': True, 'criterion': 'gini', 'max_depth': 4, 'max_features': None}\n"
     ]
    }
   ],
   "source": [
    "np.random.seed(42)\n",
    "\n",
    "# Providing the different values of hyperparameters\n",
    "param_dist = {'max_depth': [2, 3, 4],\n",
    "              'max_features': ['auto', 'sqrt', 'log2', None],\n",
    "                'bootstrap' : [True, False],\n",
    "              'criterion': ['gini', 'entropy']}\n",
    "\n",
    "# gridsearchCV \n",
    "cv_rf = GridSearchCV(fit_rf, cv = 10,\n",
    "                     param_grid=param_dist, \n",
    "                     n_jobs = 1)\n",
    "\n",
    "#Fitting the train set , so that grid search is executed on this dataset\n",
    "cv_rf.fit(train_x, class_train_set)\n",
    "\n",
    "#Printing the best parameters by using best_params\n",
    "print('Best Parameters using grid search: \\n', cv_rf.best_params_)"
   ]
  },
  {
   "cell_type": "code",
   "execution_count": 17,
   "id": "e280882a",
   "metadata": {},
   "outputs": [
    {
     "data": {
      "text/plain": [
       "RandomForestClassifier(criterion='entropy', max_depth=4, max_features='log2',\n",
       "                       random_state=42)"
      ]
     },
     "execution_count": 17,
     "metadata": {},
     "output_type": "execute_result"
    }
   ],
   "source": [
    "#Finally the best parameters are specified\n",
    "\n",
    "fit_rf.set_params(criterion = 'entropy',\n",
    "                  max_features = 'log2', \n",
    "                  bootstrap = True,\n",
    "                  max_depth = 4)\n"
   ]
  },
  {
   "cell_type": "code",
   "execution_count": 18,
   "id": "6183caa6",
   "metadata": {},
   "outputs": [],
   "source": [
    "# The OOB rate\n",
    "fit_rf.set_params(oob_score=True)\n",
    "\n",
    "min_estimators = 15\n",
    "max_estimators = 250\n",
    "\n",
    "error_rate = {}\n",
    "\n",
    "for i in range(min_estimators, max_estimators + 1):\n",
    "    fit_rf.set_params(n_estimators=i)       #specifying the number of decision trees\n",
    "    fit_rf.fit(train_x, class_train_set)     #fit to the train dataset\n",
    "\n",
    "    oob_error = 1 - fit_rf.oob_score_      #oob_score_ gives prediction score, subtract from 1 to find error\n",
    "    error_rate[i] = oob_error\n",
    "    \n"
   ]
  },
  {
   "cell_type": "code",
   "execution_count": 19,
   "id": "d5c46351",
   "metadata": {},
   "outputs": [
    {
     "data": {
      "text/plain": [
       "{15: 0.11885612153708669,\n",
       " 16: 0.11796246648793562,\n",
       " 17: 0.11885612153708669,\n",
       " 18: 0.11706881143878467,\n",
       " 19: 0.1161751563896336,\n",
       " 20: 0.11706881143878467,\n",
       " 21: 0.11528150134048254,\n",
       " 22: 0.11349419124218052,\n",
       " 23: 0.11528150134048254,\n",
       " 24: 0.11528150134048254,\n",
       " 25: 0.11528150134048254,\n",
       " 26: 0.11438784629133159,\n",
       " 27: 0.11706881143878467,\n",
       " 28: 0.11885612153708669,\n",
       " 29: 0.1161751563896336,\n",
       " 30: 0.1161751563896336,\n",
       " 31: 0.11349419124218052,\n",
       " 32: 0.11528150134048254,\n",
       " 33: 0.11260053619302945,\n",
       " 34: 0.11081322609472744,\n",
       " 35: 0.1117068811438785,\n",
       " 36: 0.11349419124218052,\n",
       " 37: 0.11081322609472744,\n",
       " 38: 0.11081322609472744,\n",
       " 39: 0.1117068811438785,\n",
       " 40: 0.11260053619302945,\n",
       " 41: 0.11438784629133159,\n",
       " 42: 0.11438784629133159,\n",
       " 43: 0.11349419124218052,\n",
       " 44: 0.11349419124218052,\n",
       " 45: 0.11260053619302945,\n",
       " 46: 0.1117068811438785,\n",
       " 47: 0.11260053619302945,\n",
       " 48: 0.11260053619302945,\n",
       " 49: 0.11260053619302945,\n",
       " 50: 0.11349419124218052,\n",
       " 51: 0.11438784629133159,\n",
       " 52: 0.11438784629133159,\n",
       " 53: 0.11438784629133159,\n",
       " 54: 0.11438784629133159,\n",
       " 55: 0.11260053619302945,\n",
       " 56: 0.10902591599642542,\n",
       " 57: 0.10991957104557637,\n",
       " 58: 0.10991957104557637,\n",
       " 59: 0.10991957104557637,\n",
       " 60: 0.10902591599642542,\n",
       " 61: 0.11081322609472744,\n",
       " 62: 0.11081322609472744,\n",
       " 63: 0.10991957104557637,\n",
       " 64: 0.11081322609472744,\n",
       " 65: 0.11081322609472744,\n",
       " 66: 0.11081322609472744,\n",
       " 67: 0.11081322609472744,\n",
       " 68: 0.10813226094727435,\n",
       " 69: 0.10813226094727435,\n",
       " 70: 0.10813226094727435,\n",
       " 71: 0.10723860589812328,\n",
       " 72: 0.10813226094727435,\n",
       " 73: 0.10813226094727435,\n",
       " 74: 0.10813226094727435,\n",
       " 75: 0.10813226094727435,\n",
       " 76: 0.10813226094727435,\n",
       " 77: 0.10813226094727435,\n",
       " 78: 0.10991957104557637,\n",
       " 79: 0.10991957104557637,\n",
       " 80: 0.10902591599642542,\n",
       " 81: 0.10902591599642542,\n",
       " 82: 0.10902591599642542,\n",
       " 83: 0.10813226094727435,\n",
       " 84: 0.10813226094727435,\n",
       " 85: 0.10902591599642542,\n",
       " 86: 0.10902591599642542,\n",
       " 87: 0.10813226094727435,\n",
       " 88: 0.10902591599642542,\n",
       " 89: 0.10902591599642542,\n",
       " 90: 0.10902591599642542,\n",
       " 91: 0.10902591599642542,\n",
       " 92: 0.10902591599642542,\n",
       " 93: 0.10902591599642542,\n",
       " 94: 0.10902591599642542,\n",
       " 95: 0.10813226094727435,\n",
       " 96: 0.10902591599642542,\n",
       " 97: 0.10902591599642542,\n",
       " 98: 0.10902591599642542,\n",
       " 99: 0.10902591599642542,\n",
       " 100: 0.10902591599642542,\n",
       " 101: 0.10902591599642542,\n",
       " 102: 0.10813226094727435,\n",
       " 103: 0.10813226094727435,\n",
       " 104: 0.10813226094727435,\n",
       " 105: 0.10813226094727435,\n",
       " 106: 0.10902591599642542,\n",
       " 107: 0.10813226094727435,\n",
       " 108: 0.10813226094727435,\n",
       " 109: 0.10723860589812328,\n",
       " 110: 0.10723860589812328,\n",
       " 111: 0.10723860589812328,\n",
       " 112: 0.10723860589812328,\n",
       " 113: 0.10813226094727435,\n",
       " 114: 0.10813226094727435,\n",
       " 115: 0.10902591599642542,\n",
       " 116: 0.10991957104557637,\n",
       " 117: 0.10991957104557637,\n",
       " 118: 0.10991957104557637,\n",
       " 119: 0.10991957104557637,\n",
       " 120: 0.10991957104557637,\n",
       " 121: 0.10902591599642542,\n",
       " 122: 0.10902591599642542,\n",
       " 123: 0.10902591599642542,\n",
       " 124: 0.10902591599642542,\n",
       " 125: 0.10902591599642542,\n",
       " 126: 0.10902591599642542,\n",
       " 127: 0.11081322609472744,\n",
       " 128: 0.11081322609472744,\n",
       " 129: 0.1117068811438785,\n",
       " 130: 0.1117068811438785,\n",
       " 131: 0.11081322609472744,\n",
       " 132: 0.11081322609472744,\n",
       " 133: 0.10991957104557637,\n",
       " 134: 0.10991957104557637,\n",
       " 135: 0.10991957104557637,\n",
       " 136: 0.10902591599642542,\n",
       " 137: 0.10991957104557637,\n",
       " 138: 0.10991957104557637,\n",
       " 139: 0.10902591599642542,\n",
       " 140: 0.10902591599642542,\n",
       " 141: 0.10902591599642542,\n",
       " 142: 0.10813226094727435,\n",
       " 143: 0.10813226094727435,\n",
       " 144: 0.10813226094727435,\n",
       " 145: 0.10813226094727435,\n",
       " 146: 0.10813226094727435,\n",
       " 147: 0.10813226094727435,\n",
       " 148: 0.10813226094727435,\n",
       " 149: 0.10723860589812328,\n",
       " 150: 0.10723860589812328,\n",
       " 151: 0.10634495084897233,\n",
       " 152: 0.10634495084897233,\n",
       " 153: 0.10634495084897233,\n",
       " 154: 0.10634495084897233,\n",
       " 155: 0.1045576407506702,\n",
       " 156: 0.10366398570151925,\n",
       " 157: 0.1045576407506702,\n",
       " 158: 0.10723860589812328,\n",
       " 159: 0.10723860589812328,\n",
       " 160: 0.10634495084897233,\n",
       " 161: 0.10634495084897233,\n",
       " 162: 0.10723860589812328,\n",
       " 163: 0.10723860589812328,\n",
       " 164: 0.10634495084897233,\n",
       " 165: 0.10723860589812328,\n",
       " 166: 0.10723860589812328,\n",
       " 167: 0.10634495084897233,\n",
       " 168: 0.10545129579982127,\n",
       " 169: 0.1045576407506702,\n",
       " 170: 0.1045576407506702,\n",
       " 171: 0.1045576407506702,\n",
       " 172: 0.10634495084897233,\n",
       " 173: 0.10634495084897233,\n",
       " 174: 0.10634495084897233,\n",
       " 175: 0.10634495084897233,\n",
       " 176: 0.10634495084897233,\n",
       " 177: 0.10545129579982127,\n",
       " 178: 0.10545129579982127,\n",
       " 179: 0.10545129579982127,\n",
       " 180: 0.10545129579982127,\n",
       " 181: 0.10366398570151925,\n",
       " 182: 0.10366398570151925,\n",
       " 183: 0.1045576407506702,\n",
       " 184: 0.10545129579982127,\n",
       " 185: 0.1045576407506702,\n",
       " 186: 0.10545129579982127,\n",
       " 187: 0.1045576407506702,\n",
       " 188: 0.10545129579982127,\n",
       " 189: 0.10634495084897233,\n",
       " 190: 0.10723860589812328,\n",
       " 191: 0.10813226094727435,\n",
       " 192: 0.10634495084897233,\n",
       " 193: 0.10634495084897233,\n",
       " 194: 0.10634495084897233,\n",
       " 195: 0.10545129579982127,\n",
       " 196: 0.10545129579982127,\n",
       " 197: 0.10545129579982127,\n",
       " 198: 0.10545129579982127,\n",
       " 199: 0.10545129579982127,\n",
       " 200: 0.10545129579982127,\n",
       " 201: 0.10545129579982127,\n",
       " 202: 0.10545129579982127,\n",
       " 203: 0.10545129579982127,\n",
       " 204: 0.1045576407506702,\n",
       " 205: 0.1045576407506702,\n",
       " 206: 0.10366398570151925,\n",
       " 207: 0.1045576407506702,\n",
       " 208: 0.1045576407506702,\n",
       " 209: 0.1045576407506702,\n",
       " 210: 0.1045576407506702,\n",
       " 211: 0.1045576407506702,\n",
       " 212: 0.1045576407506702,\n",
       " 213: 0.1045576407506702,\n",
       " 214: 0.1045576407506702,\n",
       " 215: 0.1045576407506702,\n",
       " 216: 0.1045576407506702,\n",
       " 217: 0.1045576407506702,\n",
       " 218: 0.1045576407506702,\n",
       " 219: 0.1045576407506702,\n",
       " 220: 0.1045576407506702,\n",
       " 221: 0.1045576407506702,\n",
       " 222: 0.10366398570151925,\n",
       " 223: 0.10366398570151925,\n",
       " 224: 0.10366398570151925,\n",
       " 225: 0.10366398570151925,\n",
       " 226: 0.10366398570151925,\n",
       " 227: 0.10366398570151925,\n",
       " 228: 0.10366398570151925,\n",
       " 229: 0.1045576407506702,\n",
       " 230: 0.1045576407506702,\n",
       " 231: 0.10366398570151925,\n",
       " 232: 0.10366398570151925,\n",
       " 233: 0.10366398570151925,\n",
       " 234: 0.10366398570151925,\n",
       " 235: 0.10366398570151925,\n",
       " 236: 0.1045576407506702,\n",
       " 237: 0.1045576407506702,\n",
       " 238: 0.1045576407506702,\n",
       " 239: 0.1045576407506702,\n",
       " 240: 0.1045576407506702,\n",
       " 241: 0.1045576407506702,\n",
       " 242: 0.1045576407506702,\n",
       " 243: 0.1045576407506702,\n",
       " 244: 0.1045576407506702,\n",
       " 245: 0.1045576407506702,\n",
       " 246: 0.10366398570151925,\n",
       " 247: 0.10366398570151925,\n",
       " 248: 0.1045576407506702,\n",
       " 249: 0.1045576407506702,\n",
       " 250: 0.1045576407506702}"
      ]
     },
     "execution_count": 19,
     "metadata": {},
     "output_type": "execute_result"
    }
   ],
   "source": [
    "error_rate"
   ]
  },
  {
   "cell_type": "code",
   "execution_count": 20,
   "id": "8d81714f",
   "metadata": {},
   "outputs": [
    {
     "data": {
      "text/plain": [
       "15     0.118856\n",
       "16     0.117962\n",
       "17     0.118856\n",
       "18     0.117069\n",
       "19     0.116175\n",
       "         ...   \n",
       "246    0.103664\n",
       "247    0.103664\n",
       "248    0.104558\n",
       "249    0.104558\n",
       "250    0.104558\n",
       "Length: 236, dtype: float64"
      ]
     },
     "execution_count": 20,
     "metadata": {},
     "output_type": "execute_result"
    }
   ],
   "source": [
    "# Convert dictionary to a pandas series for easy plotting \n",
    "oob_series = pd.Series(error_rate)\n",
    "oob_series"
   ]
  },
  {
   "cell_type": "code",
   "execution_count": 21,
   "id": "99d1a42e",
   "metadata": {},
   "outputs": [
    {
     "data": {
      "text/plain": [
       "Text(0.5, 1.0, 'OOB Error Rate Across various Forest sizes (From 15 to 250 trees)')"
      ]
     },
     "execution_count": 21,
     "metadata": {},
     "output_type": "execute_result"
    },
    {
     "data": {
      "image/png": "[encoded data removed]",
      "text/plain": [
       "<Figure size 1008x720 with 1 Axes>"
      ]
     },
     "metadata": {
      "needs_background": "light"
     },
     "output_type": "display_data"
    }
   ],
   "source": [
    "fig, ax = plt.subplots(figsize=(14, 10))\n",
    "\n",
    "ax.set_facecolor('#fafafa')\n",
    "\n",
    "oob_series.plot(kind='line',color = 'red')\n",
    "plt.axhline(0.042, color='#875FDB',linestyle='--')\n",
    "plt.axhline(0.037, color='#875FDB',linestyle='--')\n",
    "plt.xlabel('n_estimators (decision trees)')\n",
    "plt.ylabel('OOB Error Rate')\n",
    "plt.title('OOB Error Rate Across various Forest sizes (From 15 to 250 trees)')"
   ]
  },
  {
   "cell_type": "code",
   "execution_count": 22,
   "id": "50469e36",
   "metadata": {},
   "outputs": [
    {
     "name": "stdout",
     "output_type": "stream",
     "text": [
      "OOB Error rate for 200 trees is: 0.10456\n"
     ]
    }
   ],
   "source": [
    "print('OOB Error rate for 200 trees is: {0:.5f}'.format(oob_series[250]))"
   ]
  },
  {
   "cell_type": "code",
   "execution_count": 23,
   "id": "7c61c847",
   "metadata": {},
   "outputs": [
    {
     "data": {
      "text/plain": [
       "RandomForestClassifier(criterion='entropy', max_depth=4, max_features='log2',\n",
       "                       n_estimators=250, random_state=42)"
      ]
     },
     "execution_count": 23,
     "metadata": {},
     "output_type": "execute_result"
    }
   ],
   "source": [
    "# Refine the tree via OOB Output\n",
    "fit_rf.set_params(n_estimators=250,\n",
    "                  bootstrap = True,\n",
    "                  oob_score=False)"
   ]
  },
  {
   "cell_type": "code",
   "execution_count": 24,
   "id": "08612e1c",
   "metadata": {},
   "outputs": [
    {
     "data": {
      "text/plain": [
       "RandomForestClassifier(criterion='entropy', max_depth=4, max_features='log2',\n",
       "                       n_estimators=250, random_state=42)"
      ]
     },
     "execution_count": 24,
     "metadata": {},
     "output_type": "execute_result"
    }
   ],
   "source": [
    "fit_rf.fit(train_x, class_train_set)"
   ]
  },
  {
   "cell_type": "code",
   "execution_count": 25,
   "id": "9e6ddb3a",
   "metadata": {},
   "outputs": [],
   "source": [
    "predictions_rf = fit_rf.predict(test_x)"
   ]
  },
  {
   "cell_type": "code",
   "execution_count": 26,
   "id": "160d56a9",
   "metadata": {},
   "outputs": [
    {
     "data": {
      "text/plain": [
       "array([[413,   0],\n",
       "       [ 67,   0]], dtype=int64)"
      ]
     },
     "execution_count": 26,
     "metadata": {},
     "output_type": "execute_result"
    }
   ],
   "source": [
    "confusion_matrix(class_test_set,predictions_rf)"
   ]
  },
  {
   "cell_type": "code",
   "execution_count": 27,
   "id": "fca45eaa",
   "metadata": {},
   "outputs": [
    {
     "data": {
      "image/png": "[encoded data removed]",
      "text/plain": [
       "<Figure size 432x288 with 2 Axes>"
      ]
     },
     "metadata": {
      "needs_background": "light"
     },
     "output_type": "display_data"
    }
   ],
   "source": [
    "cm=confusion_matrix(class_test_set,predictions_rf)\n",
    "ax= plt.subplot()\n",
    "sns.heatmap(cm,annot=True, ax= ax)\n",
    "\n",
    "ax.set_xlabel('Predicted labels');ax.set_ylabel('Actual labels'); \n",
    "ax.set_title('Actual vs. Predicted Confusion Matrix'); \n",
    "\n",
    "\n",
    "plt.show()"
   ]
  },
  {
   "cell_type": "code",
   "execution_count": 35,
   "id": "621840b3",
   "metadata": {},
   "outputs": [
    {
     "data": {
      "text/plain": [
       "0.8604166666666667"
      ]
     },
     "execution_count": 35,
     "metadata": {},
     "output_type": "execute_result"
    }
   ],
   "source": [
    "from sklearn.metrics import accuracy_score\n",
    "accuracy_rf = accuracy_score(class_test_set,predictions_rf)\n",
    "accuracy_rf"
   ]
  },
  {
   "cell_type": "code",
   "execution_count": 29,
   "id": "2dec98b5",
   "metadata": {},
   "outputs": [],
   "source": [
    "predictions_prob = fit_rf.predict_proba(test_x)[:, 1]\n",
    "\n",
    "fpr, tpr, _ = metrics.roc_curve(class_test_set,\n",
    "                          predictions_prob,\n",
    "                          pos_label = 1)"
   ]
  },
  {
   "cell_type": "code",
   "execution_count": 30,
   "id": "93e90bb5",
   "metadata": {},
   "outputs": [
    {
     "data": {
      "text/plain": [
       "0.7411730692783058"
      ]
     },
     "execution_count": 30,
     "metadata": {},
     "output_type": "execute_result"
    }
   ],
   "source": [
    "auc_rf = auc(fpr, tpr)\n",
    "auc_rf"
   ]
  },
  {
   "cell_type": "code",
   "execution_count": 31,
   "id": "292fda9e",
   "metadata": {},
   "outputs": [
    {
     "data": {
      "text/plain": [
       "0.8927690582959642"
      ]
     },
     "execution_count": 31,
     "metadata": {},
     "output_type": "execute_result"
    }
   ],
   "source": [
    "from sklearn.model_selection import cross_val_score\n",
    "\n",
    "scores = cross_val_score(fit_rf, train_x, class_train_set, cv=5)\n",
    "scores.mean() "
   ]
  },
  {
   "cell_type": "code",
   "execution_count": 32,
   "id": "ef389fd3",
   "metadata": {},
   "outputs": [
    {
     "name": "stdout",
     "output_type": "stream",
     "text": [
      "              precision    recall  f1-score   support\n",
      "\n",
      "           0       1.00      0.86      0.92       480\n",
      "           1       0.00      0.00      0.00         0\n",
      "\n",
      "    accuracy                           0.86       480\n",
      "   macro avg       0.50      0.43      0.46       480\n",
      "weighted avg       1.00      0.86      0.92       480\n",
      "\n"
     ]
    }
   ],
   "source": [
    "x_predict = list(fit_rf.predict(test_x))\n",
    "print(classification_report(x_predict,class_test_set))"
   ]
  },
  {
   "cell_type": "markdown",
   "id": "0651fd5b",
   "metadata": {},
   "source": [
    "## Logistic Regression"
   ]
  },
  {
   "cell_type": "code",
   "execution_count": 33,
   "id": "2867cdc0",
   "metadata": {},
   "outputs": [
    {
     "data": {
      "text/plain": [
       "0.27708333333333335"
      ]
     },
     "execution_count": 33,
     "metadata": {},
     "output_type": "execute_result"
    }
   ],
   "source": [
    "from sklearn.linear_model import LogisticRegression\n",
    "lr = LogisticRegression()\n",
    "lr.fit(train_x,class_train_set)\n",
    "prediction = lr.predict(test_x)\n",
    "accuracy_score(class_test_set,prediction)"
   ]
  },
  {
   "cell_type": "markdown",
   "id": "0a438df1",
   "metadata": {},
   "source": [
    "## DecisionTree Classifier"
   ]
  },
  {
   "cell_type": "code",
   "execution_count": 34,
   "id": "912e9f67",
   "metadata": {},
   "outputs": [
    {
     "data": {
      "text/plain": [
       "0.4666666666666667"
      ]
     },
     "execution_count": 34,
     "metadata": {},
     "output_type": "execute_result"
    }
   ],
   "source": [
    "from sklearn.tree import DecisionTreeClassifier\n",
    "dt = DecisionTreeClassifier()\n",
    "dt.fit(train_x,class_train_set)\n",
    "accuracy_score(class_test_set,dt.predict(test_x))"
   ]
  },
  {
   "cell_type": "code",
   "execution_count": null,
   "id": "e29098eb",
   "metadata": {},
   "outputs": [],
   "source": []
  }
 ],
 "metadata": {
  "kernelspec": {
   "display_name": "Python 3 (ipykernel)",
   "language": "python",
   "name": "python3"
  },
  "language_info": {
   "codemirror_mode": {
    "name": "ipython",
    "version": 3
   },
   "file_extension": ".py",
   "mimetype": "text/x-python",
   "name": "python",
   "nbconvert_exporter": "python",
   "pygments_lexer": "ipython3",
   "version": "3.9.7"
  }
 },
 "nbformat": 4,
 "nbformat_minor": 5
}
